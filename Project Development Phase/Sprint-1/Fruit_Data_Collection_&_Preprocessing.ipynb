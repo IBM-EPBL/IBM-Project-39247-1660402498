{
  "nbformat": 4,
  "nbformat_minor": 0,
  "metadata": {
    "colab": {
      "provenance": [],
      "collapsed_sections": []
    },
    "kernelspec": {
      "name": "python3",
      "display_name": "Python 3"
    },
    "language_info": {
      "name": "python"
    }
  },
  "cells": [
    {
      "cell_type": "code",
      "execution_count": null,
      "metadata": {
        "id": "qZb6b_Gn4jIo"
      },
      "outputs": [],
      "source": [
        "import tensorflow as tf"
      ]
    },
    {
      "cell_type": "code",
      "source": [
        "cd /content/"
      ],
      "metadata": {
        "colab": {
          "base_uri": "https://localhost:8080/"
        },
        "id": "DG2Jh2b84uom",
        "outputId": "015c3a3c-3e06-45db-8f66-242e8b31ab6f"
      },
      "execution_count": null,
      "outputs": [
        {
          "output_type": "stream",
          "name": "stdout",
          "text": [
            "/content\n"
          ]
        }
      ]
    },
    {
      "cell_type": "code",
      "source": [
        "from google.colab import drive\n",
        "drive.mount('/content/drive')"
      ],
      "metadata": {
        "colab": {
          "base_uri": "https://localhost:8080/"
        },
        "id": "NZL89KxJ4zxt",
        "outputId": "5a71907d-7546-4db6-bfb9-44304f0f3036"
      },
      "execution_count": null,
      "outputs": [
        {
          "output_type": "stream",
          "name": "stdout",
          "text": [
            "Mounted at /content/drive\n"
          ]
        }
      ]
    },
    {
      "cell_type": "code",
      "source": [
        "cd /content/drive/MyDrive/Project"
      ],
      "metadata": {
        "colab": {
          "base_uri": "https://localhost:8080/"
        },
        "id": "RD8zPbgI41XB",
        "outputId": "90163138-184e-4965-e205-d5b792c0d704"
      },
      "execution_count": null,
      "outputs": [
        {
          "output_type": "stream",
          "name": "stdout",
          "text": [
            "/content/drive/MyDrive/Project\n"
          ]
        }
      ]
    },
    {
      "cell_type": "code",
      "source": [
        "from keras_preprocessing.image import ImageDataGenerator"
      ],
      "metadata": {
        "id": "Lpj26ziX5E1P"
      },
      "execution_count": null,
      "outputs": []
    },
    {
      "cell_type": "code",
      "source": [
        "#Rescaling , Zooming ,Horizontal Flip\n",
        "datagen = ImageDataGenerator(rescale =1./255,zoom_range=0.2,horizontal_flip=True,vertical_flip=False)\n"
      ],
      "metadata": {
        "id": "9snQIdku5Xzn"
      },
      "execution_count": null,
      "outputs": []
    },
    {
      "cell_type": "code",
      "source": [
        "fruit_data = datagen.flow_from_directory(\"/content/drive/MyDrive/Project/Dataset Plant Disease/fruit-dataset/fruit-dataset/train\",target_size=(64,64),class_mode='categorical',batch_size=24)"
      ],
      "metadata": {
        "colab": {
          "base_uri": "https://localhost:8080/"
        },
        "id": "5E8bdv1i5avX",
        "outputId": "feb19f84-d0d0-4fa0-9b20-61f85832a05b"
      },
      "execution_count": null,
      "outputs": [
        {
          "output_type": "stream",
          "name": "stdout",
          "text": [
            "Found 5384 images belonging to 6 classes.\n"
          ]
        }
      ]
    },
    {
      "cell_type": "code",
      "source": [
        "fruit_data1 =datagen.flow_from_directory(\"/content/drive/MyDrive/Project/Dataset Plant Disease/fruit-dataset/fruit-dataset/test\",target_size=(64,64),class_mode='categorical',batch_size=24)"
      ],
      "metadata": {
        "colab": {
          "base_uri": "https://localhost:8080/"
        },
        "id": "uA5LWq1k7yZB",
        "outputId": "bb2373ed-4556-4c3e-cf20-0e8b288dcec3"
      },
      "execution_count": null,
      "outputs": [
        {
          "output_type": "stream",
          "name": "stdout",
          "text": [
            "Found 1686 images belonging to 6 classes.\n"
          ]
        }
      ]
    },
    {
      "cell_type": "code",
      "source": [
        "fruit_data.class_indices"
      ],
      "metadata": {
        "colab": {
          "base_uri": "https://localhost:8080/"
        },
        "id": "3H2g2Tvn6LCi",
        "outputId": "c66c8a82-d658-4fcd-adb9-53ceb6243614"
      },
      "execution_count": null,
      "outputs": [
        {
          "output_type": "execute_result",
          "data": {
            "text/plain": [
              "{'Apple___Black_rot': 0,\n",
              " 'Apple___healthy': 1,\n",
              " 'Corn_(maize)___Northern_Leaf_Blight': 2,\n",
              " 'Corn_(maize)___healthy': 3,\n",
              " 'Peach___Bacterial_spot': 4,\n",
              " 'Peach___healthy': 5}"
            ]
          },
          "metadata": {},
          "execution_count": 12
        }
      ]
    },
    {
      "cell_type": "code",
      "source": [
        "fruit_data1.class_indices"
      ],
      "metadata": {
        "colab": {
          "base_uri": "https://localhost:8080/"
        },
        "id": "KL_KtU7d74f6",
        "outputId": "193ab5ca-002b-4d02-d6f3-f4afccbb428a"
      },
      "execution_count": null,
      "outputs": [
        {
          "output_type": "execute_result",
          "data": {
            "text/plain": [
              "{'Apple___Black_rot': 0,\n",
              " 'Apple___healthy': 1,\n",
              " 'Corn_(maize)___Northern_Leaf_Blight': 2,\n",
              " 'Corn_(maize)___healthy': 3,\n",
              " 'Peach___Bacterial_spot': 4,\n",
              " 'Peach___healthy': 5}"
            ]
          },
          "metadata": {},
          "execution_count": 25
        }
      ]
    }
  ]
}