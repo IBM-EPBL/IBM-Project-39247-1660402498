{
  "cells": [
    {
      "metadata": {
        "id": "Lpj26ziX5E1P"
      },
      "cell_type": "code",
      "source": [
        "from keras_preprocessing.image import ImageDataGenerator\n",
        "from tensorflow.keras.models import Sequential\n",
        "from tensorflow.keras.layers import Dense\n",
        "from tensorflow.keras.layers import Convolution2D,MaxPool2D,Flatten\n",
        "import numpy as np\n",
        "from tensorflow.keras.models import load_model\n",
        "from tensorflow.keras.preprocessing import image\n",
        "import glob\n",
        "from keras.layers import Dense,Dropout,Flatten\n",
        "from keras.layers import Conv2D,MaxPooling2D,Activation,AveragePooling2D,BatchNormalization\n",
        "from keras.preprocessing import image\n",
        "from tensorflow.keras.utils import load_img\n",
        "from tensorflow.keras.utils import img_to_array\n",
        "import numpy as np\n",
        "import matplotlib.pyplot as plt\n",
        "from tensorflow import keras"
      ],
      "execution_count": null,
      "outputs": []
    },
    {
      "cell_type": "markdown",
      "source": [
        "**Data Collection & Preprocessing**"
      ],
      "metadata": {
        "id": "pEUo3NMPLng3"
      }
    },
    {
      "metadata": {
        "id": "9snQIdku5Xzn"
      },
      "cell_type": "code",
      "source": [
        "#Rescaling , Zooming ,Horizontal Flip Data Augmentation\n",
        "train_datagen = ImageDataGenerator(rescale = 1./255,zoom_range = 0.2,horizontal_flip = True,vertical_flip = False)\n",
        "test_datagen = ImageDataGenerator(rescale = 1./255)"
      ],
      "execution_count": null,
      "outputs": []
    },
    {
      "metadata": {
        "id": "Ai2XWT3ULkNr"
      },
      "cell_type": "code",
      "source": [
        "train_dir =\"/content/drive/MyDrive/Project/Dataset Plant Disease/fruit-dataset/fruit-dataset/train/\"\n",
        "test_dir=\"/content/drive/MyDrive/Project/Dataset Plant Disease/fruit-dataset/fruit-dataset/test/\""
      ],
      "execution_count": null,
      "outputs": []
    },
    {
      "metadata": {
        "id": "lCSq4dXYLkNt",
        "outputId": "a6ef1fb5-e335-473e-b11c-be664bdaf92c"
      },
      "cell_type": "code",
      "source": [
        "\n",
        "train_samples =get_files(train_dir)\n",
        "num_classes=len(glob.glob(train_dir+\"/*\"))\n",
        "test_samples=get_files(test_dir)\n",
        "print(num_classes,\"Classes\")\n",
        "print(train_samples,\"Train images\")\n",
        "print(test_samples,\"Test images\")"
      ],
      "execution_count": null,
      "outputs": [
        {
          "output_type": "stream",
          "text": "6 Classes\n5384 Train images\n1686 Test images\n",
          "name": "stdout"
        }
      ]
    },
    {
      "metadata": {
        "id": "5E8bdv1i5avX"
      },
      "cell_type": "code",
      "source": [
        "# set height and width and color of input image.\n",
        "img_width,img_height =256,256\n",
        "input_shape=(img_width,img_height,3)\n",
        "batch_size =32"
      ],
      "execution_count": null,
      "outputs": []
    },
    {
      "metadata": {
        "id": "DJGMIrCqLkNu",
        "outputId": "249aaf6d-0c17-47ec-e733-ff59968796d1"
      },
      "cell_type": "code",
      "source": [
        "train_generator = train_datagen.flow_from_directory(train_dir,\n",
        "                                target_size=(img_width,img_height),batch_size=batch_size)\n",
        "test_generator=test_datagen.flow_from_directory(test_dir,shuffle=True,target_size=(img_width,img_height),batch_size=batch_size)"
      ],
      "execution_count": null,
      "outputs": [
        {
          "output_type": "stream",
          "text": "Found 5384 images belonging to 6 classes.\nFound 1686 images belonging to 6 classes.\n",
          "name": "stdout"
        }
      ]
    },
    {
      "metadata": {
        "id": "3AEO4Do5LkNv",
        "outputId": "e3e8e40f-d86a-448a-cc24-2d2c42f373e0"
      },
      "cell_type": "code",
      "source": [
        "# The name of the 6 diseases.\n",
        "train_generator.class_indices"
      ],
      "execution_count": null,
      "outputs": [
        {
          "output_type": "execute_result",
          "execution_count": 12,
          "data": {
            "text/plain": "{'Apple___Black_rot': 0,\n 'Apple___healthy': 1,\n 'Corn_(maize)___Northern_Leaf_Blight': 2,\n 'Corn_(maize)___healthy': 3,\n 'Peach___Bacterial_spot': 4,\n 'Peach___healthy': 5}"
          },
          "metadata": {}
        }
      ]
    },
    {
      "metadata": {
        "id": "p0kWnNpyLkN1"
      },
      "cell_type": "code",
      "source": [],
      "execution_count": null,
      "outputs": []
    }
  ],
  "metadata": {
    "colab": {
      "provenance": []
    },
    "kernelspec": {
      "name": "python3",
      "display_name": "Python 3.9",
      "language": "python"
    },
    "language_info": {
      "name": "python",
      "version": "3.9.13",
      "mimetype": "text/x-python",
      "codemirror_mode": {
        "name": "ipython",
        "version": 3
      },
      "pygments_lexer": "ipython3",
      "nbconvert_exporter": "python",
      "file_extension": ".py"
    }
  },
  "nbformat": 4,
  "nbformat_minor": 0
}