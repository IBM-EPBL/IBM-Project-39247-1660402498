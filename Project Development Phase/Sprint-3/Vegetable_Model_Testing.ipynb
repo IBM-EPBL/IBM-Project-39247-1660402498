{
  "cells": [
    {
      "cell_type": "code",
      "execution_count": null,
      "metadata": {
        "colab": {
          "base_uri": "https://localhost:8080/"
        },
        "id": "ODqkuMVf1b8y",
        "outputId": "db13eecb-5dbc-40f7-e9f8-d2ab5f895f5d"
      },
      "outputs": [
        {
          "output_type": "stream",
          "name": "stdout",
          "text": [
            "Drive already mounted at /content/drive; to attempt to forcibly remount, call drive.mount(\"/content/drive\", force_remount=True).\n"
          ]
        }
      ],
      "source": [
        " from google.colab import drive\n",
        "drive.mount('/content/drive')"
      ]
    },
    {
      "cell_type": "code",
      "execution_count": null,
      "metadata": {
        "id": "QG084co81jDY"
      },
      "outputs": [],
      "source": [
        "# Import Libraries\n",
        "import os\n",
        "import glob\n",
        "import matplotlib.pyplot as plt\n",
        "import numpy as np\n",
        "# Keras API\n",
        "import keras\n",
        "from keras.models import Sequential\n",
        "from keras.layers import Dense,Dropout,Flatten\n",
        "from keras.layers import Conv2D,MaxPooling2D,Activation,AveragePooling2D,BatchNormalization\n",
        "from keras.preprocessing.image import ImageDataGenerator"
      ]
    },
    {
      "cell_type": "code",
      "execution_count": null,
      "metadata": {
        "id": "8fMR-Nfq1tjQ"
      },
      "outputs": [],
      "source": [
        "# My data is in google drive.\n",
        "train_dir =\"/content/drive/MyDrive/Project/Dataset Plant Disease/Veg-dataset/Veg-dataset/train_set/\"\n",
        "test_dir=\"/content/drive/MyDrive/Project/Dataset Plant Disease/Veg-dataset/Veg-dataset/test_set\""
      ]
    },
    {
      "cell_type": "code",
      "source": [
        "# Loading model and predict.\n",
        "from keras.models import load_model\n",
        "model=load_model('vegetable.h5')\n",
        "# Mention name of the disease into list.\n",
        "Classes = [\"Pepper,_bell___Bacterial_spot\",\n",
        " \"Pepper,_bell___healthy\",\n",
        " \"Potato___Early_blight\",\n",
        " \"Potato___Late_blight\",\n",
        " \"Potato___healthy\",\n",
        " \"Tomato___Bacterial_spot\",\n",
        " \"Tomato___Late_blight\",\n",
        " \"Tomato___Leaf_Mold\",\n",
        " \"Tomato___Septoria_leaf_spot\"]"
      ],
      "metadata": {
        "id": "FTQt7rtiDD5W"
      },
      "execution_count": null,
      "outputs": []
    },
    {
      "cell_type": "code",
      "source": [
        "import numpy as np\n",
        "import matplotlib.pyplot as plt\n",
        "# Pre-Processing test data same as train data.\n",
        "img_width=256\n",
        "img_height=256\n",
        "model.compile(optimizer='adam',loss='categorical_crossentropy',metrics=['accuracy'])\n",
        "from keras.preprocessing import image\n",
        "def prepare(img_path):\n",
        "    img = load_img(img_path, target_size=(256, 256))\n",
        "    x =   img_to_array(img)\n",
        "    x = x/255\n",
        "    return np.expand_dims(x, axis=0)"
      ],
      "metadata": {
        "id": "cap-uHs8DvV4"
      },
      "execution_count": null,
      "outputs": []
    },
    {
      "cell_type": "code",
      "source": [
        "result = model.predict([prepare('/content/drive/MyDrive/Project/Dataset Plant Disease/Veg-dataset/Veg-dataset/test_set/Potato___Early_blight/b7883606-5157-4dc1-b965-fc10f8fe1796___RS_Early.B 7598.JPG')])\n",
        "disease= load_img('/content/drive/MyDrive/Project/Dataset Plant Disease/Veg-dataset/Veg-dataset/test_set/Potato___Early_blight/b7883606-5157-4dc1-b965-fc10f8fe1796___RS_Early.B 7598.JPG')\n",
        "#plt.imshow(disease)\n",
        "ind = np.argmax(result)\n",
        "ind"
      ],
      "metadata": {
        "colab": {
          "base_uri": "https://localhost:8080/"
        },
        "id": "Ct-e4jltG3Bn",
        "outputId": "a1c4fd4e-ff93-45ab-ebcd-946b6e3862e4"
      },
      "execution_count": null,
      "outputs": [
        {
          "output_type": "stream",
          "name": "stdout",
          "text": [
            "1/1 [==============================] - 0s 105ms/step\n"
          ]
        },
        {
          "output_type": "execute_result",
          "data": {
            "text/plain": [
              "2"
            ]
          },
          "metadata": {},
          "execution_count": 50
        }
      ]
    },
    {
      "cell_type": "code",
      "source": [
        "print (Classes[ind])"
      ],
      "metadata": {
        "colab": {
          "base_uri": "https://localhost:8080/"
        },
        "id": "FSCrJidCFu9y",
        "outputId": "a3f7fce5-6411-4d61-9f6c-28ef3127db48"
      },
      "execution_count": null,
      "outputs": [
        {
          "output_type": "stream",
          "name": "stdout",
          "text": [
            "Potato___Early_blight\n"
          ]
        }
      ]
    },
    {
      "cell_type": "code",
      "source": [
        "result = model.predict([prepare('/content/drive/MyDrive/Project/Dataset Plant Disease/Veg-dataset/Veg-dataset/test_set/Tomato___Septoria_leaf_spot/cd83759b-c7da-4406-8794-9b311ab05871___Matt.S_CG 6684.JPG')])\n",
        "disease= load_img('/content/drive/MyDrive/Project/Dataset Plant Disease/Veg-dataset/Veg-dataset/test_set/Tomato___Septoria_leaf_spot/cd83759b-c7da-4406-8794-9b311ab05871___Matt.S_CG 6684.JPG')\n",
        "#plt.imshow(disease)\n",
        "ind = np.argmax(result)\n",
        "ind"
      ],
      "metadata": {
        "colab": {
          "base_uri": "https://localhost:8080/"
        },
        "id": "5qHR4t9KYZzo",
        "outputId": "3f73ceb8-1379-40a7-eb83-284618dd553f"
      },
      "execution_count": null,
      "outputs": [
        {
          "output_type": "stream",
          "name": "stdout",
          "text": [
            "1/1 [==============================] - 0s 44ms/step\n"
          ]
        },
        {
          "output_type": "execute_result",
          "data": {
            "text/plain": [
              "8"
            ]
          },
          "metadata": {},
          "execution_count": 53
        }
      ]
    },
    {
      "cell_type": "code",
      "source": [
        "print (Classes[ind])"
      ],
      "metadata": {
        "colab": {
          "base_uri": "https://localhost:8080/"
        },
        "id": "2dBAxyB3Yk73",
        "outputId": "ead1c482-664f-4e92-c7f9-5e06425803e0"
      },
      "execution_count": null,
      "outputs": [
        {
          "output_type": "stream",
          "name": "stdout",
          "text": [
            "Tomato___Septoria_leaf_spot\n"
          ]
        }
      ]
    },
    {
      "cell_type": "code",
      "source": [],
      "metadata": {
        "id": "AR5r-VRJYl8k"
      },
      "execution_count": null,
      "outputs": []
    }
  ],
  "metadata": {
    "colab": {
      "provenance": []
    },
    "kernelspec": {
      "display_name": "Python 3",
      "name": "python3"
    },
    "language_info": {
      "name": "python"
    }
  },
  "nbformat": 4,
  "nbformat_minor": 0
}